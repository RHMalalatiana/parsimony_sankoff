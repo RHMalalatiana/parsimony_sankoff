{
 "cells": [
  {
   "cell_type": "markdown",
   "id": "agricultural-replication",
   "metadata": {},
   "source": [
    "Contact: malalarhm93@gmail.com"
   ]
  },
  {
   "cell_type": "code",
   "execution_count": 1,
   "id": "8603aa6e",
   "metadata": {},
   "outputs": [],
   "source": [
    "from malala import * \n",
    "from canonical import *\n",
    "from unrooted1 import *"
   ]
  },
  {
   "cell_type": "markdown",
   "id": "thick-emergency",
   "metadata": {},
   "source": [
    "### Generating tree\n",
    "\n",
    "To generate all possible rooted trees for a given list of species, we can use the function enumerate labelled trees().\n",
    "\n",
    "\n",
    "Each species should be represented as an integer number, as demonstrated by the examples below. \n",
    "\n",
    "The representation of a node in the tree is [left_child,right_child]"
   ]
  },
  {
   "cell_type": "code",
   "execution_count": 2,
   "id": "89294fc7",
   "metadata": {},
   "outputs": [
    {
     "data": {
      "text/plain": [
       "[[1, 2]]"
      ]
     },
     "execution_count": 2,
     "metadata": {},
     "output_type": "execute_result"
    }
   ],
   "source": [
    "#trees for 2 species\n",
    "enumerate_labelled_trees([1,2])"
   ]
  },
  {
   "cell_type": "code",
   "execution_count": 3,
   "id": "4928dcaf",
   "metadata": {},
   "outputs": [
    {
     "data": {
      "text/plain": [
       "[[[1, 3], 2], [1, [2, 3]], [[1, 2], 3]]"
      ]
     },
     "execution_count": 3,
     "metadata": {},
     "output_type": "execute_result"
    }
   ],
   "source": [
    "#trees for 3 species\n",
    "enumerate_labelled_trees([1,2,3])"
   ]
  },
  {
   "cell_type": "code",
   "execution_count": 4,
   "id": "9d150a35",
   "metadata": {},
   "outputs": [
    {
     "data": {
      "text/plain": [
       "[[[1, 3], [2, 4]],\n",
       " [[[1, 3], 2], 4],\n",
       " [[[1, 4], 3], 2],\n",
       " [[1, [3, 4]], 2],\n",
       " [[[1, 3], 4], 2],\n",
       " [[1, 4], [2, 3]],\n",
       " [[1, [2, 3]], 4],\n",
       " [1, [[2, 4], 3]],\n",
       " [1, [2, [3, 4]]],\n",
       " [1, [[2, 3], 4]],\n",
       " [[1, 2], [3, 4]],\n",
       " [[[1, 2], 3], 4],\n",
       " [[[1, 4], 2], 3],\n",
       " [[1, [2, 4]], 3],\n",
       " [[[1, 2], 4], 3]]"
      ]
     },
     "execution_count": 4,
     "metadata": {},
     "output_type": "execute_result"
    }
   ],
   "source": [
    "#trees for 4 species\n",
    "enumerate_labelled_trees([1,2,3,4])"
   ]
  },
  {
   "cell_type": "markdown",
   "id": "valuable-brooks",
   "metadata": {},
   "source": [
    "### Couting the number of changes using Sankoof algorithm \n",
    "\n",
    "The function Sankoff() is used to count the number of changes on a given tree. The inputs for the function are the cost matrix, the observed character at the leaf, the alphabet, and the tree's topology.\n",
    "\n",
    "\n",
    "An illustration of how to use this function is shown below. "
   ]
  },
  {
   "cell_type": "code",
   "execution_count": 5,
   "id": "cece44f5",
   "metadata": {},
   "outputs": [
    {
     "name": "stdout",
     "output_type": "stream",
     "text": [
      "[[0.  2.5 1.  2.5]\n",
      " [2.5 0.  2.5 1. ]\n",
      " [1.  2.5 0.  2.5]\n",
      " [2.5 1.  2.5 0. ]]\n"
     ]
    }
   ],
   "source": [
    "cost_matrix=np.array([[0,2.5,1,2.5],[2.5,0,2.5,1],[1,2.5,0,2.5],[2.5,1,2.5,0]])\n",
    "print(cost_matrix)"
   ]
  },
  {
   "cell_type": "code",
   "execution_count": 6,
   "id": "c1ba2b29",
   "metadata": {},
   "outputs": [
    {
     "name": "stdout",
     "output_type": "stream",
     "text": [
      "The parsimony score of this phylogeny is 6.0 . \n",
      "The vector cost in the root of this is [6. 6. 7. 8.] .\n",
      "\n"
     ]
    }
   ],
   "source": [
    "tree=[[1,2],[3,[4,5]]]\n",
    "alphabet=['A','C','G','T']\n",
    "observedCharacters=['C','A','C','A','G']\n",
    "#compute the parsimony score for the tree above\n",
    "s,v=Sankoff(tree,alphabet,observedCharacters,cost_matrix)\n",
    "print('The parsimony score of this phylogeny is',s,'. \\nThe vector cost in the root of this is',v,\".\\n\")"
   ]
  },
  {
   "cell_type": "markdown",
   "id": "human-filename",
   "metadata": {},
   "source": [
    "### Genome generator\n",
    "\n",
    "generateDriver() is a function that uses the Jukes Cantor method to generate data.\n",
    "\n",
    "\n",
    "It takes an initial genome and the template of the desired tree as input.\n",
    "\n",
    "\n",
    "In the template tree, each node is represented as [node gen time,[left child gen time],[right child gen time]]. "
   ]
  },
  {
   "cell_type": "code",
   "execution_count": 7,
   "id": "14e6ad98",
   "metadata": {},
   "outputs": [
    {
     "name": "stdout",
     "output_type": "stream",
     "text": [
      "Tree with edges weighted by molecular time.\n",
      "[1.0, [5.0, [1.0], [5.0]], [0.05, [0.1], [0.1]]]\n",
      "Simulated tree\n",
      "[['c', 'a', 't', 'a', 'a'], [['g', 'g', 'g', 'a', 'c'], [['g', 'g', 'g', 'a', 'g']], [['c', 'g', 'c', 't', 't']]], [['c', 'a', 't', 'a', 'a'], [['c', 'a', 't', 'a', 'c']], [['c', 'a', 'g', 'a', 'a']]]]\n"
     ]
    }
   ],
   "source": [
    "initialGenome=5*['a']\n",
    "templateTree=[1.0, [5.0,[1.0],[5.0]]  , [0.05,[0.1],[0.1]]]\n",
    "simulatedTree=generateDriver(initialGenome,templateTree)\n",
    "print(\"Tree with edges weighted by molecular time.\")\n",
    "print(templateTree)\n",
    "print(\"Simulated tree\")\n",
    "print(simulatedTree)"
   ]
  },
  {
   "cell_type": "markdown",
   "id": "stupid-blackjack",
   "metadata": {},
   "source": [
    "The output of generateDriver() is converted to our tree representation by convertTree(). "
   ]
  },
  {
   "cell_type": "code",
   "execution_count": 8,
   "id": "763d9e5d",
   "metadata": {},
   "outputs": [
    {
     "data": {
      "text/plain": [
       "[[['g', 'g', 'g', 'a', 'g'], ['c', 'g', 'c', 't', 't']],\n",
       " [['c', 'a', 't', 'a', 'c'], ['c', 'a', 'g', 'a', 'a']]]"
      ]
     },
     "execution_count": 8,
     "metadata": {},
     "output_type": "execute_result"
    }
   ],
   "source": [
    "def convertTree(tree):\n",
    "    if len(tree) == 1 :\n",
    "       return(tree[0])\n",
    "    else :\n",
    "       return([convertTree(tree[1]),\n",
    "               convertTree(tree[2])\n",
    "              ]\n",
    "             )\n",
    "       \n",
    "convertTree(simulatedTree)\n",
    "    "
   ]
  },
  {
   "cell_type": "markdown",
   "id": "1ae2b9ff",
   "metadata": {},
   "source": [
    "Two rules for defining a template tree recursively:\n",
    "\n",
    "    - (time) is a template tree\n",
    "    \n",
    "    - (time,tree1,tree2) is a template tree if tree1 and tree2 is a template tree\n",
    "    \n",
    "Every template tree may be generated by application of the above two rules a finite number of times"
   ]
  },
  {
   "cell_type": "markdown",
   "id": "certain-trunk",
   "metadata": {},
   "source": [
    "The extract genomes() function extracts the genome from the output of genereteDriver() so that it can be used as a dataset. "
   ]
  },
  {
   "cell_type": "code",
   "execution_count": 9,
   "id": "a878d72d",
   "metadata": {},
   "outputs": [
    {
     "data": {
      "text/plain": [
       "[['g', 'g', 'g', 'a', 'g'],\n",
       " ['c', 'g', 'c', 't', 't'],\n",
       " ['c', 'a', 't', 'a', 'c'],\n",
       " ['c', 'a', 'g', 'a', 'a']]"
      ]
     },
     "execution_count": 9,
     "metadata": {},
     "output_type": "execute_result"
    }
   ],
   "source": [
    "def extract_genomes(tree):\n",
    "    if len(tree)==1 :\n",
    "        return(tree)\n",
    "    else :\n",
    "        return(extract_genomes(tree[1])+extract_genomes(tree[2]))\n",
    "\n",
    "data=extract_genomes(simulatedTree)\n",
    "data"
   ]
  },
  {
   "cell_type": "markdown",
   "id": "senior-memphis",
   "metadata": {},
   "source": [
    "### Example finding the most parsimonious tree"
   ]
  },
  {
   "cell_type": "markdown",
   "id": "least-court",
   "metadata": {},
   "source": [
    "We use the dataset extract from above to find the most parsimonious tree in this case.\n",
    "\n",
    "\n",
    "Using the enumerte labelled trees() function, we first generate all possible trees for the list of species.\n",
    "\n",
    "\n",
    "Then, to obtain the most parsimonious tree, we use the function parsimonious_Sank().\n",
    "\n",
    "\n",
    "This function takes all possible trees for the species, the genome for each species, the alphabet, and the cost matrix as input. "
   ]
  },
  {
   "cell_type": "code",
   "execution_count": 10,
   "id": "cab67cf3",
   "metadata": {},
   "outputs": [
    {
     "name": "stdout",
     "output_type": "stream",
     "text": [
      "The number of changes are  8.0\n",
      "The most parsimonious trees are [[[1, [3, 4]], 2], [1, [2, [3, 4]]], [[1, 2], [3, 4]], [[[1, 2], 3], 4], [[[1, 2], 4], 3]]\n"
     ]
    }
   ],
   "source": [
    "cost=np.array([[0,1,1,1],[1,0,1,1],[1,1,0,1],[1,1,1,0]])\n",
    "tree_list=enumerate_labelled_trees([1,2,3,4])\n",
    "alphabet_lc=['a','c','g','t']\n",
    "parsimonious, number_changes=parsimonious_Sank(tree_list,data,alphabet_lc,cost)\n",
    "print(\"The number of changes are \",number_changes)\n",
    "print('The most parsimonious trees are', parsimonious)"
   ]
  },
  {
   "cell_type": "markdown",
   "id": "polar-christmas",
   "metadata": {},
   "source": [
    "We can see that we have multiple trees as output, but when we try to unroot them, we only get one unrooted tree.\n",
    "\n",
    "\n",
    "The function canonical() reduces these trees to a single representation.\n",
    "\n",
    "\n",
    "The function canonical rooted list() displays only one representation of these trees by removing all duplicated trees from the list of trees. "
   ]
  },
  {
   "cell_type": "code",
   "execution_count": 11,
   "id": "genetic-variable",
   "metadata": {},
   "outputs": [
    {
     "name": "stdout",
     "output_type": "stream",
     "text": [
      "[1, [2, [3, 4]]]\n",
      "[1, [2, [3, 4]]]\n",
      "[1, [2, [3, 4]]]\n",
      "[1, [2, [3, 4]]]\n",
      "[1, [2, [3, 4]]]\n"
     ]
    }
   ],
   "source": [
    "for tree in parsimonious:\n",
    "    print(canonical(tree))"
   ]
  },
  {
   "cell_type": "code",
   "execution_count": 12,
   "id": "informed-azerbaijan",
   "metadata": {},
   "outputs": [
    {
     "data": {
      "text/plain": [
       "[[1, [2, [3, 4]]]]"
      ]
     },
     "execution_count": 12,
     "metadata": {},
     "output_type": "execute_result"
    }
   ],
   "source": [
    "c_tree=canonical_rooted_list(parsimonious)\n",
    "c_tree"
   ]
  },
  {
   "cell_type": "markdown",
   "id": "angry-worry",
   "metadata": {},
   "source": [
    "### Generating all possible tree that have different representation of unrooted tree"
   ]
  },
  {
   "cell_type": "markdown",
   "id": "transsexual-stanley",
   "metadata": {},
   "source": [
    "For a given number of species, the function generate unrooted trees() generates all possible trees with different representations of unrooted trees. "
   ]
  },
  {
   "cell_type": "code",
   "execution_count": 13,
   "id": "naughty-island",
   "metadata": {},
   "outputs": [
    {
     "data": {
      "text/plain": [
       "[[1, [[2, 4], 3]], [1, [[2, 3], 4]], [1, [2, [3, 4]]]]"
      ]
     },
     "execution_count": 13,
     "metadata": {},
     "output_type": "execute_result"
    }
   ],
   "source": [
    "generate_unrooted_trees(4)"
   ]
  },
  {
   "cell_type": "markdown",
   "id": "hydraulic-kansas",
   "metadata": {},
   "source": [
    "### Replace tree labels"
   ]
  },
  {
   "cell_type": "markdown",
   "id": "pregnant-association",
   "metadata": {},
   "source": [
    "The replace_tree_labels_in_tree_list() function is used to replace the label in a tree."
   ]
  },
  {
   "cell_type": "code",
   "execution_count": 14,
   "id": "verified-distance",
   "metadata": {},
   "outputs": [
    {
     "data": {
      "text/plain": [
       "[['a', ['b', ['c', 'd']]]]"
      ]
     },
     "execution_count": 14,
     "metadata": {},
     "output_type": "execute_result"
    }
   ],
   "source": [
    "label_list=[ 'a', 'b', 'c', 'd']\n",
    "replace_tree_labels_in_tree_list(c_tree,label_list)"
   ]
  },
  {
   "cell_type": "markdown",
   "id": "employed-campus",
   "metadata": {},
   "source": [
    "### Exercise"
   ]
  },
  {
   "cell_type": "markdown",
   "id": "ideal-visit",
   "metadata": {},
   "source": [
    "Try to find the most parsimonious trees using these datasets"
   ]
  },
  {
   "cell_type": "code",
   "execution_count": 15,
   "id": "referenced-conditioning",
   "metadata": {},
   "outputs": [],
   "source": [
    "mouse='ACCAAAAAAACATCCAAACACCAACCCCAGCCCTTACGCAATAGCCATACAAAGAATATTATACTACTAAAAACTCAAATTAACTCTTTAATCTTTATACAACATTCCACCAACCTATCCACACAAAAAAACTCATATTTATCTAAATACGAACTTCACACAACCTTAACACATAAACATACCCCAGCCCAACACCCTTCCACAAATCCTTAATATACGCACCATAAATAAC'\n",
    "m=[i for i in mouse]\n",
    "bovine='ACCAAACCTGTCCCCACCATCTAACACCAACCCACATATACAAGCTAAACCAAAAATACCATACAACCATAAATAAGACTAATCTATTAAAATAACCCATTACGATACAAAATCCCTTTCGTCTAGATACAAACCACAACACACAATTAATACACACCACAATTACAATACTAAACTCCCATCCCACCAAATCACCCTCCATCAAATCCACAAATTACACAACCATTAACCC'\n",
    "b=[i for i in bovine]\n",
    "gibbon='ACTATACCCACCCAACTCGACCTACACCAATCCCCACATAGCACACAGACCAACAACCTCCCACCTTCCATACCAAGCCCCGACTTTACCGCCAACGCACCTCATCAAAACATACCTACAACACAAACAAATGCCCCCCCACCCTCCTTCTTCAAGCCCACTAGACCATCCTACCTTCCTAGCACGCCAAGCTCTCTACCATCAAACGCACAACTTACACATACAGAACCAC'\n",
    "g=[i for i in gibbon]\n",
    "orang='ACCCCACCCGTCTACACCAGCCAACACCAACCCCCACCTACTATACCAACCAATAACCTCTCAACCCCTAAACCAAACACTATCCCCAAAACCAACACACTCTACCAAAATACACCCCCAATTCACATCCGCACACCCCCACCCCCCCTGCCCACGTCCATCCCATCACCCTCTCCTCCCAACACCCTAAGCCACCTTCCTCAAAATCCAAAACCCACACAACCGAAACAAC'\n",
    "o=[i for i in orang]\n",
    "gorilla='ACCCCATTTATCCATAAAAACCAACACCAACCCCCATCTAACACACAAACTAATGACCCCCCACCCTCAAAGCCAAACACCAACCCTATAATCAATACGCCTTATCAAAACACACCCCCAACATAAACCCACGCACCCCCACCCCTTCCGCCCATGCTCACCACATCATCTCTCCCCTTCAACACCTCAATCCACCTCCCCCCAAATACACAATTCACACAAACAATACCAC'\n",
    "go=[i for i in gorilla]\n",
    "chimp='ACCCCATCCACCCATACAAACCAACATTACCCTCCATCCAATATACAAACTAACAACCTCCCACTCTTCAGACCGAACACCAATCTCACAACCAACACGCCCCGTCAAAACACCCCTTCAGCACAAATTCATACACCCCTACCTTTCCTACCCACGTTCACCACATCATCCCCCCCTCTCAACATCTTGACTCGCCTCTCTCCAAACACACAATTCACGCAAACAACGCCAC'\n",
    "ch=[i for i in chimp]\n",
    "human='ACCCCACTCACCCATACAAACCAACACCACTCTCCACCTAATATACAAATTAATAACCTCCCACCTTCAGAACTGAACGCCAATCTCATAACCAACACACCCCATCAAAGCACCCCTCCAACACAAACCCGCACACCTCCACCCCCCTCGTCTACGCTTACCACGTCATCCCTCCCTCTCAACACCTTAACTCACCTTCTCCCAAACGCACAATTCGCACACACAACGCCAC'\n",
    "h=[i for i in human]"
   ]
  },
  {
   "cell_type": "code",
   "execution_count": 16,
   "id": "female-isaac",
   "metadata": {},
   "outputs": [],
   "source": [
    "primates_and_friends=[b,m,o,h,ch,go,g]"
   ]
  },
  {
   "cell_type": "markdown",
   "id": "reasonable-boston",
   "metadata": {},
   "source": [
    "Step 1- Generate all possible tree for these 7 species using enumerate_labelled_trees() function\n",
    "\n",
    "1: mouse, 2: bovine, 3: gibbon, 4: orang, 5: gorilla, 6: chimp, 7: human"
   ]
  },
  {
   "cell_type": "code",
   "execution_count": null,
   "id": "consecutive-secret",
   "metadata": {},
   "outputs": [],
   "source": []
  },
  {
   "cell_type": "markdown",
   "id": "broken-mother",
   "metadata": {},
   "source": [
    "Step 2- Find the most parsimonius trees using parsimonious_Sank() function. \n",
    "\n",
    "You can use replace_tree_labels_in_tree_list() to rename the label of the most parsimonius tree."
   ]
  },
  {
   "cell_type": "code",
   "execution_count": null,
   "id": "following-dispatch",
   "metadata": {},
   "outputs": [],
   "source": []
  }
 ],
 "metadata": {
  "kernelspec": {
   "display_name": "Python 3",
   "language": "python",
   "name": "python3"
  },
  "language_info": {
   "codemirror_mode": {
    "name": "ipython",
    "version": 3
   },
   "file_extension": ".py",
   "mimetype": "text/x-python",
   "name": "python",
   "nbconvert_exporter": "python",
   "pygments_lexer": "ipython3",
   "version": "3.9.2"
  }
 },
 "nbformat": 4,
 "nbformat_minor": 5
}
