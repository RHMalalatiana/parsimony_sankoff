{
 "cells": [
  {
   "cell_type": "code",
   "execution_count": 1,
   "id": "6e1dc44b",
   "metadata": {},
   "outputs": [],
   "source": [
    "from malala import * "
   ]
  },
  {
   "cell_type": "code",
   "execution_count": 2,
   "id": "e357ad1a",
   "metadata": {},
   "outputs": [
    {
     "data": {
      "text/plain": [
       "[[1, 2]]"
      ]
     },
     "execution_count": 2,
     "metadata": {},
     "output_type": "execute_result"
    }
   ],
   "source": [
    "enumerate_labelled_trees([1,2])"
   ]
  },
  {
   "cell_type": "code",
   "execution_count": 3,
   "id": "9e8ee04d",
   "metadata": {},
   "outputs": [
    {
     "data": {
      "text/plain": [
       "[[[1, 3], 2], [1, [2, 3]], [[1, 2], 3]]"
      ]
     },
     "execution_count": 3,
     "metadata": {},
     "output_type": "execute_result"
    }
   ],
   "source": [
    "enumerate_labelled_trees([1,2,3])"
   ]
  },
  {
   "cell_type": "code",
   "execution_count": 4,
   "id": "a9a5bfa3",
   "metadata": {},
   "outputs": [
    {
     "data": {
      "text/plain": [
       "[[[1, 3], [2, 4]],\n",
       " [[[1, 3], 2], 4],\n",
       " [[[1, 4], 3], 2],\n",
       " [[1, [3, 4]], 2],\n",
       " [[[1, 3], 4], 2],\n",
       " [[1, 4], [2, 3]],\n",
       " [[1, [2, 3]], 4],\n",
       " [1, [[2, 4], 3]],\n",
       " [1, [2, [3, 4]]],\n",
       " [1, [[2, 3], 4]],\n",
       " [[1, 2], [3, 4]],\n",
       " [[[1, 2], 3], 4],\n",
       " [[[1, 4], 2], 3],\n",
       " [[1, [2, 4]], 3],\n",
       " [[[1, 2], 4], 3]]"
      ]
     },
     "execution_count": 4,
     "metadata": {},
     "output_type": "execute_result"
    }
   ],
   "source": [
    "enumerate_labelled_trees([1,2,3,4])"
   ]
  },
  {
   "cell_type": "code",
   "execution_count": 5,
   "id": "745b1c84",
   "metadata": {},
   "outputs": [
    {
     "name": "stdout",
     "output_type": "stream",
     "text": [
      "[[0.  2.5 1.  2.5]\n",
      " [2.5 0.  2.5 1. ]\n",
      " [1.  2.5 0.  2.5]\n",
      " [2.5 1.  2.5 0. ]]\n"
     ]
    }
   ],
   "source": [
    "cost_matrix=np.array([[0,2.5,1,2.5],[2.5,0,2.5,1],[1,2.5,0,2.5],[2.5,1,2.5,0]])\n",
    "print(cost_matrix)"
   ]
  },
  {
   "cell_type": "code",
   "execution_count": 6,
   "id": "a75ee49d",
   "metadata": {},
   "outputs": [],
   "source": [
    "mouse='ACCAAAAAAACATCCAAACACCAACCCCAGCCCTTACGCAATAGCCATACAAAGAATATTATACTACTAAAAACTCAAATTAACTCTTTAATCTTTATACAACATTCCACCAACCTATCCACACAAAAAAACTCATATTTATCTAAATACGAACTTCACACAACCTTAACACATAAACATACCCCAGCCCAACACCCTTCCACAAATCCTTAATATACGCACCATAAATAAC'\n",
    "m=[i for i in mouse]\n",
    "\n",
    "bovine='ACCAAACCTGTCCCCACCATCTAACACCAACCCACATATACAAGCTAAACCAAAAATACCATACAACCATAAATAAGACTAATCTATTAAAATAACCCATTACGATACAAAATCCCTTTCGTCTAGATACAAACCACAACACACAATTAATACACACCACAATTACAATACTAAACTCCCATCCCACCAAATCACCCTCCATCAAATCCACAAATTACACAACCATTAACCC'\n",
    "b=[i for i in bovine]\n",
    "\n",
    "gibbon='ACTATACCCACCCAACTCGACCTACACCAATCCCCACATAGCACACAGACCAACAACCTCCCACCTTCCATACCAAGCCCCGACTTTACCGCCAACGCACCTCATCAAAACATACCTACAACACAAACAAATGCCCCCCCACCCTCCTTCTTCAAGCCCACTAGACCATCCTACCTTCCTAGCACGCCAAGCTCTCTACCATCAAACGCACAACTTACACATACAGAACCAC'\n",
    "g=[i for i in gibbon]\n",
    "\n",
    "orang='ACCCCACCCGTCTACACCAGCCAACACCAACCCCCACCTACTATACCAACCAATAACCTCTCAACCCCTAAACCAAACACTATCCCCAAAACCAACACACTCTACCAAAATACACCCCCAATTCACATCCGCACACCCCCACCCCCCCTGCCCACGTCCATCCCATCACCCTCTCCTCCCAACACCCTAAGCCACCTTCCTCAAAATCCAAAACCCACACAACCGAAACAAC'\n",
    "o=[i for i in orang]\n",
    "\n",
    "gorilla='ACCCCATTTATCCATAAAAACCAACACCAACCCCCATCTAACACACAAACTAATGACCCCCCACCCTCAAAGCCAAACACCAACCCTATAATCAATACGCCTTATCAAAACACACCCCCAACATAAACCCACGCACCCCCACCCCTTCCGCCCATGCTCACCACATCATCTCTCCCCTTCAACACCTCAATCCACCTCCCCCCAAATACACAATTCACACAAACAATACCAC'\n",
    "go=[i for i in gorilla]\n",
    "\n",
    "chimp='ACCCCATCCACCCATACAAACCAACATTACCCTCCATCCAATATACAAACTAACAACCTCCCACTCTTCAGACCGAACACCAATCTCACAACCAACACGCCCCGTCAAAACACCCCTTCAGCACAAATTCATACACCCCTACCTTTCCTACCCACGTTCACCACATCATCCCCCCCTCTCAACATCTTGACTCGCCTCTCTCCAAACACACAATTCACGCAAACAACGCCAC'\n",
    "ch=[i for i in chimp]\n",
    "\n",
    "human='ACCCCACTCACCCATACAAACCAACACCACTCTCCACCTAATATACAAATTAATAACCTCCCACCTTCAGAACTGAACGCCAATCTCATAACCAACACACCCCATCAAAGCACCCCTCCAACACAAACCCGCACACCTCCACCCCCCTCGTCTACGCTTACCACGTCATCCCTCCCTCTCAACACCTTAACTCACCTTCTCCCAAACGCACAATTCGCACACACAACGCCAC'\n",
    "h=[i for i in human]\n",
    "\n",
    "primates_and_friends=[m,b,g,o,go,ch,h]"
   ]
  },
  {
   "cell_type": "code",
   "execution_count": 7,
   "id": "0b5dbbde",
   "metadata": {},
   "outputs": [
    {
     "name": "stdout",
     "output_type": "stream",
     "text": [
      "The parsimony score of this phylogeny is 6.0 . \n",
      "The vector cost in the root of this is [6. 6. 7. 8.] .\n",
      "\n"
     ]
    }
   ],
   "source": [
    "tree=[[1,2],[3,[4,5]]]\n",
    "alphabet=['A','C','G','T']\n",
    "observedCharacters=['C','A','C','A','G']\n",
    "#compute the parsimony score for the tree above\n",
    "s,v=Sankoff(tree,alphabet,observedCharacters,cost_matrix)\n",
    "print('The parsimony score of this phylogeny is',s,'. \\nThe vector cost in the root of this is',v,\".\\n\")"
   ]
  },
  {
   "cell_type": "code",
   "execution_count": 8,
   "id": "fbb5115c",
   "metadata": {},
   "outputs": [],
   "source": [
    "tree_list=enumerate_labelled_trees([1,2,3,4])\n",
    "data=[m,b,g,h]\n",
    "result=parsimonious_Sank(tree_list,data,alphabet,cost_matrix)"
   ]
  },
  {
   "cell_type": "code",
   "execution_count": 9,
   "id": "0f44c4ea",
   "metadata": {},
   "outputs": [
    {
     "name": "stdout",
     "output_type": "stream",
     "text": [
      "Tree with edges weighted by molecular time.\n",
      "[1.0, [1.0, [1.0, [1.0], [1.0]], [1.0, [1.0], [1.0]]], [2.0]]\n",
      "Simulated tree\n",
      "[['a', 'a', 'g', 'a', 'a'], [['a', 'a', 'g', 'a', 'a'], [['a', 'a', 'g', 'a', 't'], [['a', 'a', 'a', 't', 't']], [['a', 'g', 'c', 'g', 't']]], [['a', 't', 'g', 'g', 'a'], [['a', 'c', 't', 'g', 't']], [['a', 't', 'a', 't', 'g']]]], [['c', 'c', 't', 'g', 'c']]]\n"
     ]
    }
   ],
   "source": [
    "initialGenome=5*['a']\n",
    "templateTree=[ 1.0, [1.0]  , [1.0] ]\n",
    "#templateTree=[ 1.0, [1.0, [1.0,[1.0],[1.0]], [1.0, [1.0], [1.0] ]], [2.0]  ]\n",
    "templateTree=  [ 1.0,              \n",
    "                      [1.0, \n",
    "                           [1.0,\n",
    "                                [1.0],\n",
    "                                [1.0]\n",
    "                            ],\n",
    "                            [1.0, \n",
    "                                 [1.0], \n",
    "                                 [1.0] \n",
    "                            ]\n",
    "                      ],  \n",
    "                      [2.0]\n",
    "               ]\n",
    "simulatedTree=generateDriver(initialGenome,templateTree)\n",
    "print(\"Tree with edges weighted by molecular time.\")\n",
    "print(templateTree)\n",
    "print(\"Simulated tree\")\n",
    "print(simulatedTree)"
   ]
  },
  {
   "cell_type": "code",
   "execution_count": 10,
   "id": "a1b99fda",
   "metadata": {},
   "outputs": [
    {
     "name": "stdout",
     "output_type": "stream",
     "text": [
      "[['a', 'a', 'g', 'a', 'a'], [['a', 'a', 'g', 'a', 'a'], [['a', 'a', 'g', 'a', 't'], [['a', 'a', 'a', 't', 't']], [['a', 'g', 'c', 'g', 't']]], [['a', 't', 'g', 'g', 'a'], [['a', 'c', 't', 'g', 't']], [['a', 't', 'a', 't', 'g']]]], [['c', 'c', 't', 'g', 'c']]]\n"
     ]
    }
   ],
   "source": [
    "print(simulatedTree)"
   ]
  },
  {
   "cell_type": "code",
   "execution_count": 11,
   "id": "c3bdc45b",
   "metadata": {},
   "outputs": [
    {
     "data": {
      "text/plain": [
       "[[[['a', 'a', 'a', 't', 't'], ['a', 'g', 'c', 'g', 't']],\n",
       "  [['a', 'c', 't', 'g', 't'], ['a', 't', 'a', 't', 'g']]],\n",
       " ['c', 'c', 't', 'g', 'c']]"
      ]
     },
     "execution_count": 11,
     "metadata": {},
     "output_type": "execute_result"
    }
   ],
   "source": [
    "def convertTree(tree):\n",
    "    if len(tree) == 1 :\n",
    "       return(tree[0])\n",
    "    else :\n",
    "       return([convertTree(tree[1]),\n",
    "               convertTree(tree[2])\n",
    "              ]\n",
    "             )\n",
    "       \n",
    "convertTree(simulatedTree)\n",
    "    "
   ]
  },
  {
   "cell_type": "markdown",
   "id": "b1bec38d",
   "metadata": {},
   "source": [
    "Two rules for defining a template tree recursively:\n",
    "    (time) is a template tree\n",
    "    (time,tree1,tree2) is a template tree if tree1 and tree2 is a template tree\n",
    "Every template tree may be generated by application of the above two rules a finite number of times"
   ]
  },
  {
   "cell_type": "code",
   "execution_count": 12,
   "id": "557f4b42",
   "metadata": {},
   "outputs": [
    {
     "data": {
      "text/plain": [
       "[['a', 'a', 'a', 't', 't'],\n",
       " ['a', 'g', 'c', 'g', 't'],\n",
       " ['a', 'c', 't', 'g', 't'],\n",
       " ['a', 't', 'a', 't', 'g'],\n",
       " ['c', 'c', 't', 'g', 'c']]"
      ]
     },
     "execution_count": 12,
     "metadata": {},
     "output_type": "execute_result"
    }
   ],
   "source": [
    "def extract_genomes(tree):\n",
    "    if len(tree)==1 :\n",
    "        return(tree)\n",
    "    else :\n",
    "        return(extract_genomes(tree[1])+extract_genomes(tree[2]))\n",
    "\n",
    "extract_genomes(simulatedTree)"
   ]
  },
  {
   "cell_type": "code",
   "execution_count": 13,
   "id": "89f88051",
   "metadata": {},
   "outputs": [
    {
     "data": {
      "text/plain": [
       "([[[1, [3, 4]], 2],\n",
       "  [1, [2, [3, 4]]],\n",
       "  [[1, 2], [3, 4]],\n",
       "  [[[1, 2], 3], 4],\n",
       "  [[[1, 2], 4], 3]],\n",
       " 454.0)"
      ]
     },
     "execution_count": 13,
     "metadata": {},
     "output_type": "execute_result"
    }
   ],
   "source": [
    "result\n"
   ]
  },
  {
   "cell_type": "code",
   "execution_count": null,
   "id": "a96003f0",
   "metadata": {},
   "outputs": [],
   "source": []
  }
 ],
 "metadata": {
  "kernelspec": {
   "display_name": "Python 3",
   "language": "python",
   "name": "python3"
  },
  "language_info": {
   "codemirror_mode": {
    "name": "ipython",
    "version": 3
   },
   "file_extension": ".py",
   "mimetype": "text/x-python",
   "name": "python",
   "nbconvert_exporter": "python",
   "pygments_lexer": "ipython3",
   "version": "3.9.2"
  }
 },
 "nbformat": 4,
 "nbformat_minor": 5
}
