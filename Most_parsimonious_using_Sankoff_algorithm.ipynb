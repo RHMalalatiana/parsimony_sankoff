{
 "cells": [
  {
   "cell_type": "code",
   "execution_count": 1,
   "metadata": {
    "collapsed": true
   },
   "outputs": [],
   "source": [
    "import numpy as np"
   ]
  },
  {
   "cell_type": "markdown",
   "metadata": {},
   "source": [
    "### Labeled bifurcating tree"
   ]
  },
  {
   "cell_type": "markdown",
   "metadata": {},
   "source": [
    "When we add species to the tree, the number of way of doing that is equal to the number of the branch. The tree of 2 species have 3 branches and every time we add species, we create 2 new branches. Then we can generate $3$ different trees of $3$ species, the $3$-species tree have $5$ branches, so for each of the $3$ different trees we have, we can generate $5$ trees with $4$ species. That gives us $3 \\times 5$ trees of $4$-species. So we can generalize that the number of bifurcating tree for $n$-species tree is\n",
    "\t\\begin{equation}\n",
    "\t3 \\times 5 \\times 7 \\times 9 \\times \\dots \\times (2n-3)\n",
    "\t\\label{1.2}\n",
    "\t\\end{equation}\n",
    "\n",
    "By arranging this, we have,\n",
    "\n",
    "\\begin{align*}\n",
    "3 \\times 5 \\times 7 \\times 9 \\times \\dots \\times (2n-3)&=\\frac{1 \\times 2 \\times 3 \\times 4 \\times 5 \\times 6 \\times 7 \\times  \\dots \\times (2n-4) \\times (2n-3)}{2 \\times 4 \\times 6 \\times \\dots \\times (2n-4)}\\\\\n",
    "&=\\frac{(2n-3)!}{2^{n-2}(1 \\times 2 \\times \\dots \\times (n-2))}\n",
    "\\end{align*}\n",
    "\t\n",
    "Therefore, the number of birfurcating labeled trees with $n$ species is,\n",
    "\n",
    "\\begin{equation}\n",
    "\\frac{(2n-3)!}{2^{n-2}(n-2)!}\n",
    "\\label{1.3}\n",
    "\\end{equation} "
   ]
  },
  {
   "cell_type": "markdown",
   "metadata": {},
   "source": [
    "<img src=\"root_bif.png\" width=300 height=300 />"
   ]
  },
  {
   "cell_type": "code",
   "execution_count": 2,
   "metadata": {
    "collapsed": true
   },
   "outputs": [],
   "source": [
    "def possible_tree(tree,species):\n",
    "    '''\n",
    "    Input: a tree and a species to add on the tree\n",
    "    Output: all possible tree when we add the species to each branch of the tree\n",
    "    '''\n",
    "    stock=[]\n",
    "    if type(tree[0])!=list and type(tree[1])==list:\n",
    "        stock.append([[tree[0],species],tree[1]])\n",
    "        stock.append([[tree[0],tree[1]],species])\n",
    "        for i in possible_tree(tree[1],species):\n",
    "            stock.append([tree[0],i])\n",
    "    elif type(tree[1])!=list and type(tree[0])==list:\n",
    "        stock.append([tree[0],[tree[1],species]])\n",
    "        stock.append([[tree[0],tree[1]],species])\n",
    "        for i in possible_tree(tree[0],species):\n",
    "            stock.append([i,tree[1]])\n",
    "    elif type(tree[0])!=list and type(tree[1])!=list:\n",
    "        stock.append([[tree[0],species],tree[1]])\n",
    "        stock.append([tree[0],[tree[1],species]])\n",
    "        stock.append([[tree[0],tree[1]],species])\n",
    "    else:\n",
    "        stock.append([tree,species])\n",
    "        for i in possible_tree(tree[0],species):\n",
    "            stock.append([i,tree[1]])\n",
    "        for j in possible_tree(tree[1],species):\n",
    "            stock.append([tree[0],j])     \n",
    "    return stock     "
   ]
  },
  {
   "cell_type": "code",
   "execution_count": 3,
   "metadata": {
    "collapsed": true
   },
   "outputs": [
    {
     "data": {
      "text/plain": [
       "[[[[1, 2], [3, 4]], [5, 6]],\n",
       " [[[[1, 2], [3, 4]], 5], 6],\n",
       " [[[[1, 2], [3, 4]], 6], 5],\n",
       " [[[[1, 6], 2], [3, 4]], 5],\n",
       " [[[1, [2, 6]], [3, 4]], 5],\n",
       " [[[[1, 2], 6], [3, 4]], 5],\n",
       " [[[1, 2], [[3, 6], 4]], 5],\n",
       " [[[1, 2], [3, [4, 6]]], 5],\n",
       " [[[1, 2], [[3, 4], 6]], 5]]"
      ]
     },
     "execution_count": 3,
     "metadata": {},
     "output_type": "execute_result"
    }
   ],
   "source": [
    "#all structure of tree when we insert species 6\n",
    "L=possible_tree([[[1, 2], [3, 4]], 5],6)\n",
    "L"
   ]
  },
  {
   "cell_type": "code",
   "execution_count": 4,
   "metadata": {
    "collapsed": true
   },
   "outputs": [],
   "source": [
    "def labeled(list_of_leaf):\n",
    "    '''\n",
    "    Input: a list of the label of leaf, we enumerate is as an integeger\n",
    "    Output: a list of all possible labelled bifurcating tree for a given different leaf\n",
    "    '''\n",
    "    all_tree=[[list_of_leaf[0],list_of_leaf[1]]]\n",
    "    for i in list_of_leaf[2:]:\n",
    "        ls=[]\n",
    "        for L in all_tree:\n",
    "            trees=possible_tree(L,i)\n",
    "            for elt in trees:\n",
    "                ls.append(elt)\n",
    "            all_tree=ls.copy()\n",
    "    return all_tree"
   ]
  },
  {
   "cell_type": "code",
   "execution_count": 5,
   "metadata": {
    "collapsed": true
   },
   "outputs": [
    {
     "data": {
      "text/plain": [
       "105"
      ]
     },
     "execution_count": 5,
     "metadata": {},
     "output_type": "execute_result"
    }
   ],
   "source": [
    "#all possible labeled tree for 5 species\n",
    "Q1=labeled([1,2,3,4,5])\n",
    "len(Q1)"
   ]
  },
  {
   "cell_type": "markdown",
   "metadata": {},
   "source": [
    "###  Most parsimonious trees using Sankoff algorithm"
   ]
  },
  {
   "cell_type": "markdown",
   "metadata": {},
   "source": [
    "#### Small parsimony problem using Sankoff algorithm"
   ]
  },
  {
   "cell_type": "code",
   "execution_count": 6,
   "metadata": {
    "collapsed": true
   },
   "outputs": [],
   "source": [
    "import numpy as np"
   ]
  },
  {
   "cell_type": "code",
   "execution_count": 7,
   "metadata": {
    "collapsed": true
   },
   "outputs": [],
   "source": [
    "def vector_cost(S_l, S_r,M):\n",
    "    '''\n",
    "    Input: \n",
    "            - S_l and S_r: vector cost for two children of a node\n",
    "            - M: cost matrix\n",
    "    Output:\n",
    "            - S_m: vector cost for the node\n",
    "    '''\n",
    "    S_m=np.zeros(len(S_r))\n",
    "    l=np.zeros(len(S_r))\n",
    "    r=np.zeros(len(S_r))\n",
    "    for i in range(len(S_l)):\n",
    "        for j in range(len(S_r)):\n",
    "            l[j]=S_l[j]+M[i][j]\n",
    "            r[j]=S_r[j]+M[i][j]\n",
    "        m_l= min(l)\n",
    "        m_r=min(r)\n",
    "        S_m[i]=m_l+m_r\n",
    "    return S_m"
   ]
  },
  {
   "cell_type": "code",
   "execution_count": 8,
   "metadata": {
    "collapsed": true
   },
   "outputs": [],
   "source": [
    "#we have here the cost matrix M\n",
    "M=[[0,2.5,1,2.5],[2.5,0,2.5,1],[1,2.5,0,2.5],[2.5,1,2.5,0]]"
   ]
  },
  {
   "cell_type": "code",
   "execution_count": 9,
   "metadata": {
    "collapsed": true
   },
   "outputs": [
    {
     "data": {
      "text/plain": [
       "array([6., 6., 7., 8.])"
      ]
     },
     "execution_count": 9,
     "metadata": {},
     "output_type": "execute_result"
    }
   ],
   "source": [
    "#try to compute the vector cost for one node\n",
    "vector_cost([2.5,2.5,3.5,3.5], [3.5,3.5,3.5,4.5] ,M)"
   ]
  },
  {
   "cell_type": "code",
   "execution_count": 10,
   "metadata": {
    "collapsed": true
   },
   "outputs": [],
   "source": [
    "def Sankoff(tree,s,C,M):\n",
    "    '''\n",
    "    This function compute the number of change for one character\n",
    "    Input:\n",
    "        - tree: tree\n",
    "        - s: set of character state\n",
    "        - C: list of character for all species\n",
    "        - M: cost matrix\n",
    "    Output:\n",
    "        - score,vector cost of the root\n",
    "    '''\n",
    "    score=0\n",
    "    if type(tree[0])!=list and type(tree[1])==list:\n",
    "        score,root_cost=Sankoff(tree[1],s,C,M)\n",
    "        l=C[tree[0]-1]\n",
    "        n1 = [float('inf')] * len(s)\n",
    "        index=s.index(l)\n",
    "        n1[index]=0\n",
    "        root_cost= vector_cost(n1,root_cost,M)\n",
    "    elif type(tree[1])!=list and type(tree[0])==list:\n",
    "        score,root_cost=Sankoff(tree[0],s,C,M)\n",
    "        r=C[tree[1]-1]\n",
    "        n2 = [float('inf')] * len(s)\n",
    "        index=s.index(r)\n",
    "        n2[index]=0\n",
    "        root_cost= vector_cost(root_cost,n2,M)\n",
    "    elif type(tree[0])==list and type(tree[1])==list:\n",
    "        score,root_cost_l=Sankoff(tree[0],s,C,M)\n",
    "        score,root_cost_r=Sankoff(tree[1],s,C,M)\n",
    "        root_cost= vector_cost(root_cost_l,root_cost_r,M)\n",
    "    else:\n",
    "        l=C[tree[0]-1]\n",
    "        n1 = [float('inf')] * len(s)\n",
    "        index=s.index(l)\n",
    "        n1[index]=0\n",
    "        r=C[tree[1]-1]\n",
    "        n2 = [float('inf')] * len(s)\n",
    "        index=s.index(r)\n",
    "        n2[index]=0\n",
    "        root_cost= vector_cost(n1,n2,M)\n",
    "    score=min(root_cost)\n",
    "    return score, root_cost   "
   ]
  },
  {
   "cell_type": "markdown",
   "metadata": {},
   "source": [
    "We use our code here to see if it give the same result as we see in the figure bellow\n",
    "<img src=\"Sankoff.png\" width=400 height=400 />"
   ]
  },
  {
   "cell_type": "code",
   "execution_count": 11,
   "metadata": {
    "collapsed": true
   },
   "outputs": [],
   "source": [
    "#we have a tree here\n",
    "tree=[[1,2],[3,[4,5]]]\n",
    "#this is a list of the state of character\n",
    "s=['A','C','G','T']\n",
    "#this is the list of observed character in the leaf\n",
    "C=['C','A','C','A','G']"
   ]
  },
  {
   "cell_type": "code",
   "execution_count": 12,
   "metadata": {
    "collapsed": true
   },
   "outputs": [
    {
     "name": "stdout",
     "output_type": "stream",
     "text": [
      "The parsimony score for this phylogeny is 6.0 . \n",
      " The vector cost in the root of this is [6. 6. 7. 8.]\n"
     ]
    }
   ],
   "source": [
    "#compute the parsimony score for the tree above\n",
    "score,vec=Sankoff(tree,s,C,M)\n",
    "print('The parsimony score for this phylogeny is',score,'. \\n The vector cost in the root of this is',vec)"
   ]
  },
  {
   "cell_type": "code",
   "execution_count": 13,
   "metadata": {
    "collapsed": true
   },
   "outputs": [],
   "source": [
    "def Sankoff_tree(tree,data,s,M):\n",
    "    '''\n",
    "    This function count the number of change for all the character of species\n",
    "    Input:\n",
    "            - Tree\n",
    "            - data: Matrice which represent all the Character of each species, species in the row and character in the column    \n",
    "            - s: set of character state\n",
    "            - M: cost matrix\n",
    "    Output:\n",
    "            - count: parsimony score for the given tree\n",
    "    '''\n",
    "    count=0\n",
    "    rw,col=np.shape(data)\n",
    "    for i in range(col):\n",
    "        r1=[row[i] for row in data]\n",
    "        score,root_cost=Sankoff(tree,s,r1,M)\n",
    "        count+=score\n",
    "    return count"
   ]
  },
  {
   "cell_type": "markdown",
   "metadata": {},
   "source": [
    "#### Large parsimony problem with Sankoff algorithm"
   ]
  },
  {
   "cell_type": "code",
   "execution_count": 14,
   "metadata": {
    "collapsed": true
   },
   "outputs": [],
   "source": [
    "def parsimonious_Sank(tree_gen,data,s,M):\n",
    "    '''\n",
    "    Input: \n",
    "            - tree_gen: all possible tree for a given set of species\n",
    "            - data: Matrice which represent all the Character of each species, species in the row and character in the column    \n",
    "            - s: set of character state\n",
    "            - M: cost matrix\n",
    "    '''\n",
    "    minim=Sankoff_tree(tree_gen[0],data,s,M) \n",
    "    most_parsimonious=[tree_gen[0]]\n",
    "    for tree in tree_gen[1:]:\n",
    "        count=Sankoff_tree(tree,data,s,M)\n",
    "        if count<minim:\n",
    "            most_parsimonious=[tree]\n",
    "            minim=count\n",
    "        elif count==minim:\n",
    "            most_parsimonious.append(tree)\n",
    "    return most_parsimonious, minim"
   ]
  },
  {
   "cell_type": "markdown",
   "metadata": {},
   "source": [
    "## Test of effectiveness of our program"
   ]
  },
  {
   "cell_type": "markdown",
   "metadata": {},
   "source": [
    "This is a sequence of genome of 4 species, the length of this sequence is 200."
   ]
  },
  {
   "cell_type": "markdown",
   "metadata": {},
   "source": [
    "<img src=\"data.png\" width=400 height=400 />\n"
   ]
  },
  {
   "cell_type": "markdown",
   "metadata": {},
   "source": [
    "We see on the figure bellow the true tree usign Juckes Cantor Model for this data."
   ]
  },
  {
   "cell_type": "markdown",
   "metadata": {},
   "source": [
    "<img src=\"jc.png\" width=200 height=200 />"
   ]
  },
  {
   "cell_type": "markdown",
   "metadata": {},
   "source": [
    "###  Test of our program using Fitch algorithm for the data bellow"
   ]
  },
  {
   "cell_type": "code",
   "execution_count": 15,
   "metadata": {
    "collapsed": true
   },
   "outputs": [
    {
     "name": "stdout",
     "output_type": "stream",
     "text": [
      "The number of A in the sequence is 47 \n",
      " The number of C in the sequence is 49 \n",
      " The number of G in the sequence is 55 \n",
      "The number of T in the sequence is 49\n"
     ]
    }
   ],
   "source": [
    "#The sequence of species A\n",
    "A='CATTGGGGTCATCTACCGTCTTAGCGCAGGGGGGTGGACGTGCATCCTTTGACCGCTATGACCGGGTAATAGTTGCAAAGGAGGTAACATCATTCCCCGGAGCTATAGTAGGGCAATATACCTTTGATCAGACCTTAACCTTGCACCCTCCTGAGCCAGGGAGTCGGGAACTGATTCATCCACAGTCTGGCAGTTTGAGA'\n",
    "a=[i for i in A]\n",
    "\n",
    "print('The number of A in the sequence is',a.count('A'),'\\n The number of C in the sequence is',a.count('C'),'\\n The number of G in the sequence is',a.count('G'),'\\nThe number of T in the sequence is',a.count('T'))"
   ]
  },
  {
   "cell_type": "code",
   "execution_count": 16,
   "metadata": {
    "collapsed": true
   },
   "outputs": [
    {
     "name": "stdout",
     "output_type": "stream",
     "text": [
      "The number of A in the sequence is 50 \n",
      " The number of C in the sequence is 44 \n",
      " The number of G in the sequence is 53 \n",
      "The number of T in the sequence is 53\n"
     ]
    }
   ],
   "source": [
    "##The sequence of species B\n",
    "B='CATTGGGGTAATCTACCGTCTTAGCGTTGTGAGGTGGGCGTGCATACTTAGACACCTATGACCGGGTAATAGTTGCAAAGGAGGTAACATCATTCCACGGAGGCATAGTCGGGCAATATACCTTTCATCAGACCTTAAGTTTGCACCTTCCTGAGCCATGGAATCGGGAGGTGATTCATCAACAGTCTGCCAGTTTGAGC'\n",
    "b=[i for i in B]\n",
    "print('The number of A in the sequence is',b.count('A'),'\\n The number of C in the sequence is',b.count('C'),'\\n The number of G in the sequence is',b.count('G'),'\\nThe number of T in the sequence is',b.count('T'))"
   ]
  },
  {
   "cell_type": "code",
   "execution_count": 17,
   "metadata": {
    "collapsed": true
   },
   "outputs": [
    {
     "name": "stdout",
     "output_type": "stream",
     "text": [
      "The number of A in the sequence is 46 \n",
      " The number of C in the sequence is 47 \n",
      " The number of G in the sequence is 56 \n",
      "The number of T in the sequence is 51\n"
     ]
    }
   ],
   "source": [
    "C='CATTGGGGTCGTCAACCGCTTTCGCTAAGGGGGGTGGGAGTGCATACTTTGACCCCGATGACCGGCTAATAGTTGCAAAGGATGTAACGTTATTCCACGGATGTATTGTCGGGCACAATACCTGGCCTCAAACCTTGAGTTTGCACCCTCCTGAGCCATGGAATCGGGAGTTGATTCATCAACAGCCGGGCATTTTGAGA'\n",
    "c=[i for i in C]\n",
    "print('The number of A in the sequence is',c.count('A'),'\\n The number of C in the sequence is',c.count('C'),'\\n The number of G in the sequence is',c.count('G'),'\\nThe number of T in the sequence is',c.count('T'))"
   ]
  },
  {
   "cell_type": "code",
   "execution_count": 18,
   "metadata": {
    "collapsed": true
   },
   "outputs": [
    {
     "name": "stdout",
     "output_type": "stream",
     "text": [
      "The number of A in the sequence is 45 \n",
      " The number of C in the sequence is 44 \n",
      " The number of G in the sequence is 58 \n",
      "The number of T in the sequence is 53\n"
     ]
    }
   ],
   "source": [
    "D='CATTGGGGTCATCTACGGGCTTAGCTCAGGGGAGTGGGCGTGCATACTTAGACCCCTATGTCCGGGTAATAGTTGCAAAGGAGGTATCATTATTCCACGGAGGTATTGTCGGGCAAAATACCTTTGATGTGACCTTAAGATTGCACCCTCCTGAGCCTTGGAATCGGGGGCTGGTTCATCAACAGTCCGTCAGTCTGAGA'\n",
    "d=[i for i in D]\n",
    "print('The number of A in the sequence is',d.count('A'),'\\n The number of C in the sequence is',d.count('C'),'\\n The number of G in the sequence is',d.count('G'),'\\nThe number of T in the sequence is',d.count('T'))"
   ]
  },
  {
   "cell_type": "code",
   "execution_count": 19,
   "metadata": {
    "collapsed": true
   },
   "outputs": [],
   "source": [
    "#create the data set\n",
    "data=[a,b,c,d]\n",
    "#generate all possible tree for 4 species (we enumerate species A=1, species B=2, species C=3, species D=4)\n",
    "tree_gen=labeled([1,2,3,4])"
   ]
  },
  {
   "cell_type": "code",
   "execution_count": 20,
   "metadata": {
    "collapsed": true
   },
   "outputs": [
    {
     "data": {
      "text/plain": [
       "([[[1, [3, 4]], 2],\n",
       "  [1, [2, [3, 4]]],\n",
       "  [[1, 2], [3, 4]],\n",
       "  [[[1, 2], 3], 4],\n",
       "  [[[1, 2], 4], 3]],\n",
       " 67.0)"
      ]
     },
     "execution_count": 20,
     "metadata": {},
     "output_type": "execute_result"
    }
   ],
   "source": [
    "#find the most parsimonious tree\n",
    "cost_matrix=[[0,1,1,1],[1,0,1,1],[1,1,0,1],[1,1,1,0]]\n",
    "parsimonious_Sank(tree_gen,data,s,cost_matrix)"
   ]
  },
  {
   "cell_type": "markdown",
   "metadata": {},
   "source": [
    "These tree is represented in the figure bellow\n",
    " <img src=\"tree1.png\" width=100 height=100 /> <img src=\"tree2.png\" width=100 height=100 />\n",
    "    <img src=\"tree3.png\" width=100 height=100 />\n",
    "      <img src=\"tree4.png\" width=100 height=100 />\n",
    "        <img src=\"tree5.png\" width=100 height=100 />"
   ]
  },
  {
   "cell_type": "markdown",
   "metadata": {},
   "source": [
    " When we remove the root of the tree above, we have this unrooted tree below \n",
    "  <img src=\"unrootpas.png\" width=200 height=200 />"
   ]
  },
  {
   "cell_type": "markdown",
   "metadata": {},
   "source": [
    "### Genome tree generator from Professor Martin "
   ]
  },
  {
   "cell_type": "code",
   "execution_count": 21,
   "metadata": {
    "collapsed": true
   },
   "outputs": [],
   "source": [
    "import random\n",
    "import math as M\n",
    "\n",
    "def jukesCantor(genome,gen_time):\n",
    "  \"\"\"\n",
    "  Input: genome, a character string consisting of a, c, g, and t\n",
    "         gen_time, genetic time\n",
    "  Output: a randomly modified string according to the Juke's cantor model\n",
    "    The following coupled ODEs are integrated from t=0 to t=gen_time\n",
    "\n",
    "    dot a = -a + (c + g + t) /3\n",
    "    dot c = -a + (g + t + a) /3\n",
    "    dot g = -g + (t + a + c) /3\n",
    "    dot t = -t + (a + c + g) /3\n",
    "  \n",
    "    using the solution \n",
    " \n",
    "    a(t)=(3/4)*exp(-t)*(a(0)-(c(0)+g(0)+t(0))/3)\n",
    "        +(1/4)*(a(0)+c(0)+g(0)+t(0))\n",
    "\n",
    "    and similarly for c(t), g(t), and t(t).\n",
    "\n",
    "    In other words, if 'a' is the initial base, its persistence\n",
    "    probability after a time t is \n",
    "\n",
    "    3/4 exp(-t) + 1/4\n",
    "\n",
    "    and likewise for the other three base inputs.\n",
    "\n",
    "  \"\"\"\n",
    "  if type(gen_time) !=  float :\n",
    "    raise Exception(\"Time must be a float\")\n",
    "  for b in genome:\n",
    "    if not ( b=='a' or b=='c' or b=='g' or b=='t' ):\n",
    "       raise Exception(\"Invalid input genome\")\n",
    "  persistence_prob=(3.*M.exp(-gen_time)+1.)/4.\n",
    "  new_genome=[]\n",
    "  #print(\"Genome=\",genome)\n",
    "  for base in genome:\n",
    "    p=random.random()\n",
    "    if p < persistence_prob:\n",
    "      new_base=base\n",
    "    else: \n",
    "      if base=='a':\n",
    "        seq=('c','g','t')\n",
    "      if base=='c':\n",
    "        seq=('a','g','t')\n",
    "      if base=='g':\n",
    "        seq=('a','c','t')\n",
    "      if base=='t':\n",
    "        seq=('a','c','g')\n",
    "      new_base=random.choice(seq)\n",
    "    new_genome.append(new_base)\n",
    "  return(new_genome)"
   ]
  },
  {
   "cell_type": "code",
   "execution_count": 22,
   "metadata": {
    "collapsed": true
   },
   "outputs": [
    {
     "name": "stdout",
     "output_type": "stream",
     "text": [
      "Old Tree\n",
      "[1.0, [1.0, [1.0, [1.0], [1.0]], [1.0, [1.0], [1.0]]], [2.0]]\n",
      "New Tree\n",
      "[['a', 'a', 'c', 't', 't', 'g', 'a', 't', 'c', 'a'], [['g', 'a', 'c', 'g', 'g', 't', 'c', 't', 'c', 't'], [['a', 't', 'c', 'g', 'g', 't', 'g', 't', 't', 't'], [['c', 't', 'c', 'a', 'g', 't', 'g', 'c', 'a', 't']], [['a', 't', 'c', 'a', 't', 't', 't', 't', 'c', 'g']]], [['c', 't', 'c', 'g', 'g', 'g', 'g', 't', 'a', 'a'], [['t', 't', 't', 'g', 'c', 'c', 'a', 't', 't', 'g']], [['c', 'c', 'c', 't', 'g', 't', 't', 't', 'a', 'a']]]], [['c', 'c', 'c', 'g', 't', 'g', 'a', 'a', 'a', 'c']]]\n"
     ]
    }
   ],
   "source": [
    "import copy\n",
    "\n",
    "# The following routine, which applies mutations randomly, chooses the Jukes-Cantor algorithm,\n",
    "# but some other model can be used by changing the function below.\n",
    "\n",
    "def evolve(genome,time):\n",
    "   return(jukesCantor(genome,time))\n",
    "\n",
    "def generateHelper(initialGenome,listIn):\n",
    " time=listIn[0]\n",
    " newGenome=evolve(initialGenome,time)\n",
    " listIn[0]=newGenome\n",
    " if not ( len(listIn) == 1 or len(listIn) == 3):\n",
    "    raise Exception(\"Lists must have one or three elements\") \n",
    " if len(listIn) == 1:\n",
    "   return\n",
    " else:\n",
    "   generateHelper(newGenome,listIn[1])\n",
    "   generateHelper(newGenome,listIn[2])\n",
    "   return \n",
    "\n",
    "def generateDriver(initialGenome,listIn):\n",
    "  \"\"\"\n",
    "  This algorithm assumes a tree with input of the form:\n",
    "\n",
    "  [ genTime, leftBranch, rightBranch]\n",
    "\n",
    "  where the branches can either be tripleton lists of the format above\n",
    "  or leaves represtented as a single nonnegative number enclosed in a list.\n",
    "  genTime above is a non-negative real number. A deep copy of the input list is made,\n",
    "  and the genetic times are replaced with the stochastically evolved genomes.\n",
    "\n",
    "  An initial genone at the root of the binary tree is required as input, and this\n",
    "  must be in a format of a list of base charcters, i.e., 'a', 'c', 'g', or 't'.\n",
    "\n",
    "  \"\"\"\n",
    "  listInBis=copy.deepcopy(listIn)\n",
    "  generateHelper(initialGenome,listInBis)\n",
    "  return(listInBis)\n",
    "   \n",
    "initialGenome=10*['a']\n",
    "#oldTree=[ 1.0, [1.0]  , [1.0] ]\n",
    "oldTree=[ 1.0, [1.0, [1.0,[1.0],[1.0]]  , [1.0, [1.0], [1.0] ]], [2.0]  ]\n",
    "\n",
    "\n",
    "newTree=generateDriver(initialGenome,oldTree)\n",
    "print(\"Old Tree\")\n",
    "print(oldTree)\n",
    "print(\"New Tree\")\n",
    "print(newTree)\n"
   ]
  },
  {
   "cell_type": "markdown",
   "metadata": {},
   "source": [
    "### Test of our program using Fitch algorithm and Sankoff algorithm for the data generated above"
   ]
  },
  {
   "cell_type": "code",
   "execution_count": 23,
   "metadata": {
    "collapsed": true
   },
   "outputs": [],
   "source": [
    "#genome sequences for the 5 species\n",
    "sp1=newTree[1][1][1][0]\n",
    "sp2=newTree[1][1][2][0]\n",
    "sp3=newTree[1][2][1][0]\n",
    "sp4=newTree[1][2][2][0]\n",
    "sp5=newTree[2][0]"
   ]
  },
  {
   "cell_type": "code",
   "execution_count": 24,
   "metadata": {
    "collapsed": true
   },
   "outputs": [],
   "source": [
    "#create the data set\n",
    "data_jc=[sp1,sp2,sp3,sp4,sp5]"
   ]
  },
  {
   "cell_type": "code",
   "execution_count": 25,
   "metadata": {
    "collapsed": true
   },
   "outputs": [],
   "source": [
    "#generate all possible tree for 5 species\n",
    "t=labeled([1,2,3,4,5])"
   ]
  },
  {
   "cell_type": "markdown",
   "metadata": {},
   "source": [
    "Let's try to find the most parsimonious for the data usign Sankoff algorithm. Then we use the cost matrix below"
   ]
  },
  {
   "cell_type": "code",
   "execution_count": 26,
   "metadata": {
    "collapsed": true
   },
   "outputs": [],
   "source": [
    "#cost matrix\n",
    "c=[[0,1,1,1],[1,0,1,1],[1,1,0,1],[1,1,1,0]]\n",
    "#set of character state\n",
    "s_jc=['a','c','g','t']"
   ]
  },
  {
   "cell_type": "code",
   "execution_count": 27,
   "metadata": {
    "collapsed": true
   },
   "outputs": [
    {
     "data": {
      "text/plain": [
       "([[[[1, 4], [3, 5]], 2],\n",
       "  [[1, 4], [2, [3, 5]]],\n",
       "  [[1, [2, [3, 5]]], 4],\n",
       "  [1, [[2, [3, 5]], 4]],\n",
       "  [[[1, 4], 2], [3, 5]],\n",
       "  [[[[1, 4], 2], 3], 5],\n",
       "  [[[[1, 4], 2], 5], 3]],\n",
       " 20.0)"
      ]
     },
     "execution_count": 27,
     "metadata": {},
     "output_type": "execute_result"
    }
   ],
   "source": [
    "#compute the most parsimonious tree using Sankoff algorithm\n",
    "parsimonious_Sank(t,data_jc,s_jc,c)"
   ]
  },
  {
   "cell_type": "markdown",
   "metadata": {},
   "source": [
    "Infering phylogeny: Tree I Figure 21.1 (p. 366)"
   ]
  },
  {
   "cell_type": "code",
   "execution_count": 28,
   "metadata": {
    "collapsed": true
   },
   "outputs": [],
   "source": [
    "mouse='ACCAAAAAAACATCCAAACACCAACCCCAGCCCTTACGCAATAGCCATACAAAGAATATTATACTACTAAAAACTCAAATTAACTCTTTAATCTTTATACAACATTCCACCAACCTATCCACACAAAAAAACTCATATTTATCTAAATACGAACTTCACACAACCTTAACACATAAACATACCCCAGCCCAACACCCTTCCACAAATCCTTAATATACGCACCATAAATAAC'\n",
    "m=[i for i in mouse]"
   ]
  },
  {
   "cell_type": "code",
   "execution_count": 29,
   "metadata": {
    "collapsed": true
   },
   "outputs": [],
   "source": [
    "bovine='ACCAAACCTGTCCCCACCATCTAACACCAACCCACATATACAAGCTAAACCAAAAATACCATACAACCATAAATAAGACTAATCTATTAAAATAACCCATTACGATACAAAATCCCTTTCGTCTAGATACAAACCACAACACACAATTAATACACACCACAATTACAATACTAAACTCCCATCCCACCAAATCACCCTCCATCAAATCCACAAATTACACAACCATTAACCC'\n",
    "b=[i for i in bovine]"
   ]
  },
  {
   "cell_type": "code",
   "execution_count": 30,
   "metadata": {
    "collapsed": true
   },
   "outputs": [],
   "source": [
    "gibbon='ACTATACCCACCCAACTCGACCTACACCAATCCCCACATAGCACACAGACCAACAACCTCCCACCTTCCATACCAAGCCCCGACTTTACCGCCAACGCACCTCATCAAAACATACCTACAACACAAACAAATGCCCCCCCACCCTCCTTCTTCAAGCCCACTAGACCATCCTACCTTCCTAGCACGCCAAGCTCTCTACCATCAAACGCACAACTTACACATACAGAACCAC'\n",
    "g=[i for i in gibbon]"
   ]
  },
  {
   "cell_type": "code",
   "execution_count": 31,
   "metadata": {
    "collapsed": true
   },
   "outputs": [],
   "source": [
    "orang='ACCCCACCCGTCTACACCAGCCAACACCAACCCCCACCTACTATACCAACCAATAACCTCTCAACCCCTAAACCAAACACTATCCCCAAAACCAACACACTCTACCAAAATACACCCCCAATTCACATCCGCACACCCCCACCCCCCCTGCCCACGTCCATCCCATCACCCTCTCCTCCCAACACCCTAAGCCACCTTCCTCAAAATCCAAAACCCACACAACCGAAACAAC'\n",
    "o=[i for i in orang]"
   ]
  },
  {
   "cell_type": "code",
   "execution_count": 32,
   "metadata": {
    "collapsed": true
   },
   "outputs": [],
   "source": [
    "gorilla='ACCCCATTTATCCATAAAAACCAACACCAACCCCCATCTAACACACAAACTAATGACCCCCCACCCTCAAAGCCAAACACCAACCCTATAATCAATACGCCTTATCAAAACACACCCCCAACATAAACCCACGCACCCCCACCCCTTCCGCCCATGCTCACCACATCATCTCTCCCCTTCAACACCTCAATCCACCTCCCCCCAAATACACAATTCACACAAACAATACCAC'\n",
    "go=[i for i in gorilla]"
   ]
  },
  {
   "cell_type": "code",
   "execution_count": 33,
   "metadata": {
    "collapsed": true
   },
   "outputs": [],
   "source": [
    "chimp='ACCCCATCCACCCATACAAACCAACATTACCCTCCATCCAATATACAAACTAACAACCTCCCACTCTTCAGACCGAACACCAATCTCACAACCAACACGCCCCGTCAAAACACCCCTTCAGCACAAATTCATACACCCCTACCTTTCCTACCCACGTTCACCACATCATCCCCCCCTCTCAACATCTTGACTCGCCTCTCTCCAAACACACAATTCACGCAAACAACGCCAC'\n",
    "ch=[i for i in chimp]"
   ]
  },
  {
   "cell_type": "code",
   "execution_count": 34,
   "metadata": {
    "collapsed": true
   },
   "outputs": [],
   "source": [
    "human='ACCCCACTCACCCATACAAACCAACACCACTCTCCACCTAATATACAAATTAATAACCTCCCACCTTCAGAACTGAACGCCAATCTCATAACCAACACACCCCATCAAAGCACCCCTCCAACACAAACCCGCACACCTCCACCCCCCTCGTCTACGCTTACCACGTCATCCCTCCCTCTCAACACCTTAACTCACCTTCTCCCAAACGCACAATTCGCACACACAACGCCAC'\n",
    "h=[i for i in human]"
   ]
  },
  {
   "cell_type": "code",
   "execution_count": 35,
   "metadata": {
    "collapsed": true
   },
   "outputs": [],
   "source": [
    "dataset=[m,b,g,o,go,ch,h]"
   ]
  },
  {
   "cell_type": "code",
   "execution_count": 36,
   "metadata": {
    "collapsed": true
   },
   "outputs": [],
   "source": [
    "list_tree=labeled([1,2,3,4,5,6,7]) #m:1,b:2,g:3,o:4,go:5,ch:6,h:7"
   ]
  },
  {
   "cell_type": "code",
   "execution_count": 37,
   "metadata": {
    "collapsed": true
   },
   "outputs": [
    {
     "data": {
      "text/plain": [
       "([[[1, [3, [4, [5, [6, 7]]]]], 2],\n",
       "  [1, [2, [3, [4, [5, [6, 7]]]]]],\n",
       "  [[1, 2], [3, [4, [5, [6, 7]]]]],\n",
       "  [[[1, 2], 3], [4, [5, [6, 7]]]],\n",
       "  [[[[1, 2], 3], 4], [5, [6, 7]]],\n",
       "  [[[[[1, 2], 3], 4], 5], [6, 7]],\n",
       "  [[[[[[1, 2], 3], 4], 5], 6], 7],\n",
       "  [[[[[[1, 2], 3], 4], 5], 7], 6],\n",
       "  [[[[[1, 2], 3], 4], [6, 7]], 5],\n",
       "  [[[[1, 2], 3], [5, [6, 7]]], 4],\n",
       "  [[[1, 2], [4, [5, [6, 7]]]], 3]],\n",
       " 372.0)"
      ]
     },
     "execution_count": 37,
     "metadata": {},
     "output_type": "execute_result"
    }
   ],
   "source": [
    "#find the most parsimonious tree\n",
    "cost_matrix=[[0,1,1,1],[1,0,1,1],[1,1,0,1],[1,1,1,0]]\n",
    "parsimonious_Sank(list_tree,dataset,s,cost_matrix)"
   ]
  },
  {
   "cell_type": "code",
   "execution_count": null,
   "metadata": {
    "collapsed": true
   },
   "outputs": [],
   "source": []
  }
 ],
 "metadata": {
  "kernelspec": {
   "display_name": "Python 3",
   "language": "python",
   "name": "python3"
  },
  "language_info": {
   "codemirror_mode": {
    "name": "ipython",
    "version": 3
   },
   "file_extension": ".py",
   "mimetype": "text/x-python",
   "name": "python",
   "nbconvert_exporter": "python",
   "pygments_lexer": "ipython3",
   "version": "3.9.2"
  }
 },
 "nbformat": 4,
 "nbformat_minor": 2
}
