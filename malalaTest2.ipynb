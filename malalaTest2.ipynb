{
 "cells": [
  {
   "cell_type": "code",
   "execution_count": 1,
   "id": "8603aa6e",
   "metadata": {},
   "outputs": [],
   "source": [
    "from malala import * "
   ]
  },
  {
   "cell_type": "code",
   "execution_count": 2,
   "id": "89294fc7",
   "metadata": {},
   "outputs": [
    {
     "data": {
      "text/plain": [
       "[[1, 2]]"
      ]
     },
     "execution_count": 2,
     "metadata": {},
     "output_type": "execute_result"
    }
   ],
   "source": [
    "enumerate_labelled_trees([1,2])"
   ]
  },
  {
   "cell_type": "code",
   "execution_count": 3,
   "id": "4928dcaf",
   "metadata": {},
   "outputs": [
    {
     "data": {
      "text/plain": [
       "[[[1, 3], 2], [1, [2, 3]], [[1, 2], 3]]"
      ]
     },
     "execution_count": 3,
     "metadata": {},
     "output_type": "execute_result"
    }
   ],
   "source": [
    "enumerate_labelled_trees([1,2,3])"
   ]
  },
  {
   "cell_type": "code",
   "execution_count": 4,
   "id": "9d150a35",
   "metadata": {},
   "outputs": [
    {
     "data": {
      "text/plain": [
       "[[[1, 3], [2, 4]],\n",
       " [[[1, 3], 2], 4],\n",
       " [[[1, 4], 3], 2],\n",
       " [[1, [3, 4]], 2],\n",
       " [[[1, 3], 4], 2],\n",
       " [[1, 4], [2, 3]],\n",
       " [[1, [2, 3]], 4],\n",
       " [1, [[2, 4], 3]],\n",
       " [1, [2, [3, 4]]],\n",
       " [1, [[2, 3], 4]],\n",
       " [[1, 2], [3, 4]],\n",
       " [[[1, 2], 3], 4],\n",
       " [[[1, 4], 2], 3],\n",
       " [[1, [2, 4]], 3],\n",
       " [[[1, 2], 4], 3]]"
      ]
     },
     "execution_count": 4,
     "metadata": {},
     "output_type": "execute_result"
    }
   ],
   "source": [
    "enumerate_labelled_trees([1,2,3,4])"
   ]
  },
  {
   "cell_type": "code",
   "execution_count": 5,
   "id": "cece44f5",
   "metadata": {},
   "outputs": [
    {
     "name": "stdout",
     "output_type": "stream",
     "text": [
      "[[0.  2.5 1.  2.5]\n",
      " [2.5 0.  2.5 1. ]\n",
      " [1.  2.5 0.  2.5]\n",
      " [2.5 1.  2.5 0. ]]\n"
     ]
    }
   ],
   "source": [
    "cost_matrix=np.array([[0,2.5,1,2.5],[2.5,0,2.5,1],[1,2.5,0,2.5],[2.5,1,2.5,0]])\n",
    "print(cost_matrix)"
   ]
  },
  {
   "cell_type": "code",
   "execution_count": 6,
   "id": "c1ba2b29",
   "metadata": {},
   "outputs": [
    {
     "name": "stdout",
     "output_type": "stream",
     "text": [
      "The parsimony score of this phylogeny is 6.0 . \n",
      "The vector cost in the root of this is [6. 6. 7. 8.] .\n",
      "\n"
     ]
    }
   ],
   "source": [
    "tree=[[1,2],[3,[4,5]]]\n",
    "alphabet=['A','C','G','T']\n",
    "observedCharacters=['C','A','C','A','G']\n",
    "#compute the parsimony score for the tree above\n",
    "s,v=Sankoff(tree,alphabet,observedCharacters,cost_matrix)\n",
    "print('The parsimony score of this phylogeny is',s,'. \\nThe vector cost in the root of this is',v,\".\\n\")"
   ]
  },
  {
   "cell_type": "code",
   "execution_count": 54,
   "id": "14e6ad98",
   "metadata": {},
   "outputs": [
    {
     "name": "stdout",
     "output_type": "stream",
     "text": [
      "Tree with edges weighted by molecular time.\n",
      "[1.0, [1.0, [1.0, [1.0], [1.0]], [1.0, [1.0], [1.0]]], [2.0]]\n",
      "Simulated tree\n",
      "[['a', 'a', 'c', 'a', 'a'], [['c', 'a', 't', 'a', 'a'], [['c', 'a', 'g', 'c', 'c'], [['c', 'a', 'g', 't', 'c']], [['c', 'c', 'g', 't', 'c']]], [['t', 'a', 't', 'a', 'a'], [['t', 'g', 'a', 'a', 'a']], [['g', 'c', 'a', 't', 'g']]]], [['g', 'g', 'g', 'a', 't']]]\n"
     ]
    }
   ],
   "source": [
    "initialGenome=5*['a']\n",
    "templateTree=[ 1.0, [1.0]  , [1.0] ]\n",
    "#templateTree=[ 1.0, [1.0, [1.0,[1.0],[1.0]], [1.0, [1.0], [1.0] ]], [2.0]  ]\n",
    "templateTree=  [ 1.0,              \n",
    "                      [1.0, \n",
    "                           [1.0,\n",
    "                                [1.0],\n",
    "                                [1.0]\n",
    "                            ],\n",
    "                            [1.0, \n",
    "                                 [1.0], \n",
    "                                 [1.0] \n",
    "                            ]\n",
    "                      ],  \n",
    "                      [2.0]\n",
    "               ]\n",
    "simulatedTree=generateDriver(initialGenome,templateTree)\n",
    "print(\"Tree with edges weighted by molecular time.\")\n",
    "print(templateTree)\n",
    "print(\"Simulated tree\")\n",
    "print(simulatedTree)"
   ]
  },
  {
   "cell_type": "code",
   "execution_count": 56,
   "id": "b6d5b1cb",
   "metadata": {},
   "outputs": [
    {
     "name": "stdout",
     "output_type": "stream",
     "text": [
      "[['a', 'a', 'c', 'a', 'a'], [['c', 'a', 't', 'a', 'a'], [['c', 'a', 'g', 'c', 'c'], [['c', 'a', 'g', 't', 'c']], [['c', 'c', 'g', 't', 'c']]], [['t', 'a', 't', 'a', 'a'], [['t', 'g', 'a', 'a', 'a']], [['g', 'c', 'a', 't', 'g']]]], [['g', 'g', 'g', 'a', 't']]]\n"
     ]
    }
   ],
   "source": [
    "print(simulatedTree)"
   ]
  },
  {
   "cell_type": "code",
   "execution_count": 57,
   "id": "763d9e5d",
   "metadata": {},
   "outputs": [
    {
     "data": {
      "text/plain": [
       "[[[['c', 'a', 'g', 't', 'c'], ['c', 'c', 'g', 't', 'c']],\n",
       "  [['t', 'g', 'a', 'a', 'a'], ['g', 'c', 'a', 't', 'g']]],\n",
       " ['g', 'g', 'g', 'a', 't']]"
      ]
     },
     "execution_count": 57,
     "metadata": {},
     "output_type": "execute_result"
    }
   ],
   "source": [
    "def convertTree(tree):\n",
    "    if len(tree) == 1 :\n",
    "       return(tree[0])\n",
    "    else :\n",
    "       return([convertTree(tree[1]),\n",
    "               convertTree(tree[2])\n",
    "              ]\n",
    "             )\n",
    "       \n",
    "convertTree(simulatedTree)\n",
    "    "
   ]
  },
  {
   "cell_type": "markdown",
   "id": "1ae2b9ff",
   "metadata": {},
   "source": [
    "Two rules for defining a template tree recursively:\n",
    "    (time) is a template tree\n",
    "    (time,tree1,tree2) is a template tree if tree1 and tree2 is a template tree\n",
    "Every template tree may be generated by application of the above two rules a finite number of times"
   ]
  },
  {
   "cell_type": "code",
   "execution_count": 59,
   "id": "a878d72d",
   "metadata": {},
   "outputs": [
    {
     "data": {
      "text/plain": [
       "[['c', 'a', 'g', 't', 'c'],\n",
       " ['c', 'c', 'g', 't', 'c'],\n",
       " ['t', 'g', 'a', 'a', 'a'],\n",
       " ['g', 'c', 'a', 't', 'g'],\n",
       " ['g', 'g', 'g', 'a', 't']]"
      ]
     },
     "execution_count": 59,
     "metadata": {},
     "output_type": "execute_result"
    }
   ],
   "source": [
    "\n",
    "def extract_genomes(tree):\n",
    "    if len(tree)==1 :\n",
    "        return(tree)\n",
    "    else :\n",
    "        return(extract_genomes(tree[1])+extract_genomes(tree[2]))\n",
    "\n",
    "extract_genomes2(simulatedTree)\n"
   ]
  },
  {
   "cell_type": "code",
   "execution_count": null,
   "id": "cab67cf3",
   "metadata": {},
   "outputs": [],
   "source": []
  }
 ],
 "metadata": {
  "kernelspec": {
   "display_name": "Python 3 (ipykernel)",
   "language": "python",
   "name": "python3"
  },
  "language_info": {
   "codemirror_mode": {
    "name": "ipython",
    "version": 3
   },
   "file_extension": ".py",
   "mimetype": "text/x-python",
   "name": "python",
   "nbconvert_exporter": "python",
   "pygments_lexer": "ipython3",
   "version": "3.8.9"
  }
 },
 "nbformat": 4,
 "nbformat_minor": 5
}
