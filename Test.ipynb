{
 "cells": [
  {
   "cell_type": "code",
   "execution_count": 1,
   "id": "8603aa6e",
   "metadata": {},
   "outputs": [],
   "source": [
    "from malala import * "
   ]
  },
  {
   "cell_type": "markdown",
   "id": "thick-emergency",
   "metadata": {},
   "source": [
    "### Generating tree"
   ]
  },
  {
   "cell_type": "code",
   "execution_count": 2,
   "id": "89294fc7",
   "metadata": {},
   "outputs": [
    {
     "data": {
      "text/plain": [
       "[[1, 2]]"
      ]
     },
     "execution_count": 2,
     "metadata": {},
     "output_type": "execute_result"
    }
   ],
   "source": [
    "enumerate_labelled_trees([1,2])"
   ]
  },
  {
   "cell_type": "code",
   "execution_count": 3,
   "id": "4928dcaf",
   "metadata": {},
   "outputs": [
    {
     "data": {
      "text/plain": [
       "[[[1, 3], 2], [1, [2, 3]], [[1, 2], 3]]"
      ]
     },
     "execution_count": 3,
     "metadata": {},
     "output_type": "execute_result"
    }
   ],
   "source": [
    "enumerate_labelled_trees([1,2,3])"
   ]
  },
  {
   "cell_type": "code",
   "execution_count": 4,
   "id": "9d150a35",
   "metadata": {},
   "outputs": [
    {
     "data": {
      "text/plain": [
       "[[[1, 3], [2, 4]],\n",
       " [[[1, 3], 2], 4],\n",
       " [[[1, 4], 3], 2],\n",
       " [[1, [3, 4]], 2],\n",
       " [[[1, 3], 4], 2],\n",
       " [[1, 4], [2, 3]],\n",
       " [[1, [2, 3]], 4],\n",
       " [1, [[2, 4], 3]],\n",
       " [1, [2, [3, 4]]],\n",
       " [1, [[2, 3], 4]],\n",
       " [[1, 2], [3, 4]],\n",
       " [[[1, 2], 3], 4],\n",
       " [[[1, 4], 2], 3],\n",
       " [[1, [2, 4]], 3],\n",
       " [[[1, 2], 4], 3]]"
      ]
     },
     "execution_count": 4,
     "metadata": {},
     "output_type": "execute_result"
    }
   ],
   "source": [
    "enumerate_labelled_trees([1,2,3,4])"
   ]
  },
  {
   "cell_type": "markdown",
   "id": "valuable-brooks",
   "metadata": {},
   "source": [
    "### Couting the number of changes using Sankoof algorithm "
   ]
  },
  {
   "cell_type": "code",
   "execution_count": 5,
   "id": "cece44f5",
   "metadata": {},
   "outputs": [
    {
     "name": "stdout",
     "output_type": "stream",
     "text": [
      "[[0.  2.5 1.  2.5]\n",
      " [2.5 0.  2.5 1. ]\n",
      " [1.  2.5 0.  2.5]\n",
      " [2.5 1.  2.5 0. ]]\n"
     ]
    }
   ],
   "source": [
    "cost_matrix=np.array([[0,2.5,1,2.5],[2.5,0,2.5,1],[1,2.5,0,2.5],[2.5,1,2.5,0]])\n",
    "print(cost_matrix)"
   ]
  },
  {
   "cell_type": "code",
   "execution_count": 6,
   "id": "c1ba2b29",
   "metadata": {},
   "outputs": [
    {
     "name": "stdout",
     "output_type": "stream",
     "text": [
      "The parsimony score of this phylogeny is 6.0 . \n",
      "The vector cost in the root of this is [6. 6. 7. 8.] .\n",
      "\n"
     ]
    }
   ],
   "source": [
    "tree=[[1,2],[3,[4,5]]]\n",
    "alphabet=['A','C','G','T']\n",
    "observedCharacters=['C','A','C','A','G']\n",
    "#compute the parsimony score for the tree above\n",
    "s,v=Sankoff(tree,alphabet,observedCharacters,cost_matrix)\n",
    "print('The parsimony score of this phylogeny is',s,'. \\nThe vector cost in the root of this is',v,\".\\n\")"
   ]
  },
  {
   "cell_type": "markdown",
   "id": "human-filename",
   "metadata": {},
   "source": [
    "### Genome generator"
   ]
  },
  {
   "cell_type": "code",
   "execution_count": 7,
   "id": "14e6ad98",
   "metadata": {},
   "outputs": [
    {
     "name": "stdout",
     "output_type": "stream",
     "text": [
      "Tree with edges weighted by molecular time.\n",
      "[1.0, [5.0, [1.0], [5.0]], [0.05, [0.1], [0.1]]]\n",
      "Simulated tree\n",
      "[['c', 'g', 'g', 'a', 'c'], [['c', 'a', 'g', 't', 'c'], [['c', 'a', 'c', 'g', 'c']], [['t', 'c', 'c', 'g', 'g']]], [['c', 'g', 'g', 'a', 'c'], [['c', 'g', 'g', 'a', 'c']], [['c', 'g', 'g', 'c', 'c']]]]\n"
     ]
    }
   ],
   "source": [
    "initialGenome=5*['a']\n",
    "templateTree=[1.0, [5.0,[1.0],[5.0]]  , [0.05,[0.1],[0.1]]]\n",
    "simulatedTree=generateDriver(initialGenome,templateTree)\n",
    "print(\"Tree with edges weighted by molecular time.\")\n",
    "print(templateTree)\n",
    "print(\"Simulated tree\")\n",
    "print(simulatedTree)"
   ]
  },
  {
   "cell_type": "code",
   "execution_count": 8,
   "id": "b6d5b1cb",
   "metadata": {},
   "outputs": [
    {
     "name": "stdout",
     "output_type": "stream",
     "text": [
      "[['c', 'g', 'g', 'a', 'c'], [['c', 'a', 'g', 't', 'c'], [['c', 'a', 'c', 'g', 'c']], [['t', 'c', 'c', 'g', 'g']]], [['c', 'g', 'g', 'a', 'c'], [['c', 'g', 'g', 'a', 'c']], [['c', 'g', 'g', 'c', 'c']]]]\n"
     ]
    }
   ],
   "source": [
    "print(simulatedTree)"
   ]
  },
  {
   "cell_type": "code",
   "execution_count": 9,
   "id": "763d9e5d",
   "metadata": {},
   "outputs": [
    {
     "data": {
      "text/plain": [
       "[[['c', 'a', 'c', 'g', 'c'], ['t', 'c', 'c', 'g', 'g']],\n",
       " [['c', 'g', 'g', 'a', 'c'], ['c', 'g', 'g', 'c', 'c']]]"
      ]
     },
     "execution_count": 9,
     "metadata": {},
     "output_type": "execute_result"
    }
   ],
   "source": [
    "def convertTree(tree):\n",
    "    if len(tree) == 1 :\n",
    "       return(tree[0])\n",
    "    else :\n",
    "       return([convertTree(tree[1]),\n",
    "               convertTree(tree[2])\n",
    "              ]\n",
    "             )\n",
    "       \n",
    "convertTree(simulatedTree)\n",
    "    "
   ]
  },
  {
   "cell_type": "markdown",
   "id": "1ae2b9ff",
   "metadata": {},
   "source": [
    "Two rules for defining a template tree recursively:\n",
    "    (time) is a template tree\n",
    "    (time,tree1,tree2) is a template tree if tree1 and tree2 is a template tree\n",
    "Every template tree may be generated by application of the above two rules a finite number of times"
   ]
  },
  {
   "cell_type": "code",
   "execution_count": 10,
   "id": "a878d72d",
   "metadata": {},
   "outputs": [
    {
     "data": {
      "text/plain": [
       "[['c', 'a', 'c', 'g', 'c'],\n",
       " ['t', 'c', 'c', 'g', 'g'],\n",
       " ['c', 'g', 'g', 'a', 'c'],\n",
       " ['c', 'g', 'g', 'c', 'c']]"
      ]
     },
     "execution_count": 10,
     "metadata": {},
     "output_type": "execute_result"
    }
   ],
   "source": [
    "\n",
    "def extract_genomes(tree):\n",
    "    if len(tree)==1 :\n",
    "        return(tree)\n",
    "    else :\n",
    "        return(extract_genomes(tree[1])+extract_genomes(tree[2]))\n",
    "\n",
    "data=extract_genomes(simulatedTree)\n",
    "data"
   ]
  },
  {
   "cell_type": "markdown",
   "id": "senior-memphis",
   "metadata": {},
   "source": [
    "### Example finding the most parsimonious tree"
   ]
  },
  {
   "cell_type": "code",
   "execution_count": 11,
   "id": "cab67cf3",
   "metadata": {},
   "outputs": [
    {
     "data": {
      "text/plain": [
       "([[1, 2], [3, 4]], 7.0)"
      ]
     },
     "execution_count": 11,
     "metadata": {},
     "output_type": "execute_result"
    }
   ],
   "source": [
    "cost=np.array([[0,1,1,1],[1,0,1,1],[1,1,0,1],[1,1,1,0]])\n",
    "tree_list=enumerate_labelled_trees([1,2,3,4])\n",
    "alphabet_lc=['a','c','g','t']\n",
    "parsimonious_Sank(tree_list,data,alphabet_lc,cost)"
   ]
  },
  {
   "cell_type": "markdown",
   "id": "employed-campus",
   "metadata": {},
   "source": [
    "### Exercise"
   ]
  },
  {
   "cell_type": "markdown",
   "id": "ideal-visit",
   "metadata": {},
   "source": [
    "Try to find the most parsimonious trees using these datasets"
   ]
  },
  {
   "cell_type": "code",
   "execution_count": 12,
   "id": "referenced-conditioning",
   "metadata": {},
   "outputs": [],
   "source": [
    "mouse='ACCAAAAAAACATCCAAACACCAACCCCAGCCCTTACGCAATAGCCATACAAAGAATATTATACTACTAAAAACTCAAATTAACTCTTTAATCTTTATACAACATTCCACCAACCTATCCACACAAAAAAACTCATATTTATCTAAATACGAACTTCACACAACCTTAACACATAAACATACCCCAGCCCAACACCCTTCCACAAATCCTTAATATACGCACCATAAATAAC'\n",
    "m=[i for i in mouse]\n",
    "bovine='ACCAAACCTGTCCCCACCATCTAACACCAACCCACATATACAAGCTAAACCAAAAATACCATACAACCATAAATAAGACTAATCTATTAAAATAACCCATTACGATACAAAATCCCTTTCGTCTAGATACAAACCACAACACACAATTAATACACACCACAATTACAATACTAAACTCCCATCCCACCAAATCACCCTCCATCAAATCCACAAATTACACAACCATTAACCC'\n",
    "b=[i for i in bovine]\n",
    "gibbon='ACTATACCCACCCAACTCGACCTACACCAATCCCCACATAGCACACAGACCAACAACCTCCCACCTTCCATACCAAGCCCCGACTTTACCGCCAACGCACCTCATCAAAACATACCTACAACACAAACAAATGCCCCCCCACCCTCCTTCTTCAAGCCCACTAGACCATCCTACCTTCCTAGCACGCCAAGCTCTCTACCATCAAACGCACAACTTACACATACAGAACCAC'\n",
    "g=[i for i in gibbon]\n",
    "orang='ACCCCACCCGTCTACACCAGCCAACACCAACCCCCACCTACTATACCAACCAATAACCTCTCAACCCCTAAACCAAACACTATCCCCAAAACCAACACACTCTACCAAAATACACCCCCAATTCACATCCGCACACCCCCACCCCCCCTGCCCACGTCCATCCCATCACCCTCTCCTCCCAACACCCTAAGCCACCTTCCTCAAAATCCAAAACCCACACAACCGAAACAAC'\n",
    "o=[i for i in orang]\n",
    "gorilla='ACCCCATTTATCCATAAAAACCAACACCAACCCCCATCTAACACACAAACTAATGACCCCCCACCCTCAAAGCCAAACACCAACCCTATAATCAATACGCCTTATCAAAACACACCCCCAACATAAACCCACGCACCCCCACCCCTTCCGCCCATGCTCACCACATCATCTCTCCCCTTCAACACCTCAATCCACCTCCCCCCAAATACACAATTCACACAAACAATACCAC'\n",
    "go=[i for i in gorilla]\n",
    "chimp='ACCCCATCCACCCATACAAACCAACATTACCCTCCATCCAATATACAAACTAACAACCTCCCACTCTTCAGACCGAACACCAATCTCACAACCAACACGCCCCGTCAAAACACCCCTTCAGCACAAATTCATACACCCCTACCTTTCCTACCCACGTTCACCACATCATCCCCCCCTCTCAACATCTTGACTCGCCTCTCTCCAAACACACAATTCACGCAAACAACGCCAC'\n",
    "ch=[i for i in chimp]\n",
    "human='ACCCCACTCACCCATACAAACCAACACCACTCTCCACCTAATATACAAATTAATAACCTCCCACCTTCAGAACTGAACGCCAATCTCATAACCAACACACCCCATCAAAGCACCCCTCCAACACAAACCCGCACACCTCCACCCCCCTCGTCTACGCTTACCACGTCATCCCTCCCTCTCAACACCTTAACTCACCTTCTCCCAAACGCACAATTCGCACACACAACGCCAC'\n",
    "h=[i for i in human]"
   ]
  },
  {
   "cell_type": "code",
   "execution_count": 13,
   "id": "female-isaac",
   "metadata": {},
   "outputs": [],
   "source": [
    "primates_and_friends=[m,b,g,o,go,ch,h]"
   ]
  },
  {
   "cell_type": "markdown",
   "id": "reasonable-boston",
   "metadata": {},
   "source": [
    "Step 1- Generate all possible tree for these 7 species using enumerate_labelled_trees() function\n",
    "\n",
    "1: mouse, 2: bovine, 3: gibbon, 4: orang, 5: gorilla, 6: chimp, 7: human"
   ]
  },
  {
   "cell_type": "code",
   "execution_count": null,
   "id": "consecutive-secret",
   "metadata": {},
   "outputs": [],
   "source": []
  },
  {
   "cell_type": "markdown",
   "id": "broken-mother",
   "metadata": {},
   "source": [
    "Step 2- Find the most parsimonius trees using parsimonious_Sank() function"
   ]
  },
  {
   "cell_type": "code",
   "execution_count": null,
   "id": "upset-journal",
   "metadata": {},
   "outputs": [],
   "source": []
  }
 ],
 "metadata": {
  "kernelspec": {
   "display_name": "Python 3",
   "language": "python",
   "name": "python3"
  },
  "language_info": {
   "codemirror_mode": {
    "name": "ipython",
    "version": 3
   },
   "file_extension": ".py",
   "mimetype": "text/x-python",
   "name": "python",
   "nbconvert_exporter": "python",
   "pygments_lexer": "ipython3",
   "version": "3.9.2"
  }
 },
 "nbformat": 4,
 "nbformat_minor": 5
}
